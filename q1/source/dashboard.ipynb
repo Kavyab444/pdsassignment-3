{
  "nbformat": 4,
  "nbformat_minor": 0,
  "metadata": {
    "colab": {
      "provenance": []
    },
    "kernelspec": {
      "name": "python3",
      "display_name": "Python 3"
    },
    "language_info": {
      "name": "python"
    }
  },
  "cells": [
    {
      "cell_type": "code",
      "execution_count": 5,
      "metadata": {
        "colab": {
          "base_uri": "https://localhost:8080/"
        },
        "id": "1H7PlY4vhju1",
        "outputId": "d5e9bc33-ac14-4238-8140-a3edc7ab4d0c"
      },
      "outputs": [
        {
          "output_type": "stream",
          "name": "stdout",
          "text": [
            "Requirement already satisfied: requests in /usr/local/lib/python3.10/dist-packages (2.31.0)\n",
            "Requirement already satisfied: dash in /usr/local/lib/python3.10/dist-packages (2.16.1)\n",
            "Requirement already satisfied: charset-normalizer<4,>=2 in /usr/local/lib/python3.10/dist-packages (from requests) (3.3.2)\n",
            "Requirement already satisfied: idna<4,>=2.5 in /usr/local/lib/python3.10/dist-packages (from requests) (3.6)\n",
            "Requirement already satisfied: urllib3<3,>=1.21.1 in /usr/local/lib/python3.10/dist-packages (from requests) (2.0.7)\n",
            "Requirement already satisfied: certifi>=2017.4.17 in /usr/local/lib/python3.10/dist-packages (from requests) (2024.2.2)\n",
            "Requirement already satisfied: Flask<3.1,>=1.0.4 in /usr/local/lib/python3.10/dist-packages (from dash) (2.2.5)\n",
            "Requirement already satisfied: Werkzeug<3.1 in /usr/local/lib/python3.10/dist-packages (from dash) (3.0.2)\n",
            "Requirement already satisfied: plotly>=5.0.0 in /usr/local/lib/python3.10/dist-packages (from dash) (5.15.0)\n",
            "Requirement already satisfied: dash-html-components==2.0.0 in /usr/local/lib/python3.10/dist-packages (from dash) (2.0.0)\n",
            "Requirement already satisfied: dash-core-components==2.0.0 in /usr/local/lib/python3.10/dist-packages (from dash) (2.0.0)\n",
            "Requirement already satisfied: dash-table==5.0.0 in /usr/local/lib/python3.10/dist-packages (from dash) (5.0.0)\n",
            "Requirement already satisfied: importlib-metadata in /usr/local/lib/python3.10/dist-packages (from dash) (7.1.0)\n",
            "Requirement already satisfied: typing-extensions>=4.1.1 in /usr/local/lib/python3.10/dist-packages (from dash) (4.11.0)\n",
            "Requirement already satisfied: retrying in /usr/local/lib/python3.10/dist-packages (from dash) (1.3.4)\n",
            "Requirement already satisfied: nest-asyncio in /usr/local/lib/python3.10/dist-packages (from dash) (1.6.0)\n",
            "Requirement already satisfied: setuptools in /usr/local/lib/python3.10/dist-packages (from dash) (67.7.2)\n",
            "Requirement already satisfied: Jinja2>=3.0 in /usr/local/lib/python3.10/dist-packages (from Flask<3.1,>=1.0.4->dash) (3.1.3)\n",
            "Requirement already satisfied: itsdangerous>=2.0 in /usr/local/lib/python3.10/dist-packages (from Flask<3.1,>=1.0.4->dash) (2.1.2)\n",
            "Requirement already satisfied: click>=8.0 in /usr/local/lib/python3.10/dist-packages (from Flask<3.1,>=1.0.4->dash) (8.1.7)\n",
            "Requirement already satisfied: tenacity>=6.2.0 in /usr/local/lib/python3.10/dist-packages (from plotly>=5.0.0->dash) (8.2.3)\n",
            "Requirement already satisfied: packaging in /usr/local/lib/python3.10/dist-packages (from plotly>=5.0.0->dash) (24.0)\n",
            "Requirement already satisfied: MarkupSafe>=2.1.1 in /usr/local/lib/python3.10/dist-packages (from Werkzeug<3.1->dash) (2.1.5)\n",
            "Requirement already satisfied: zipp>=0.5 in /usr/local/lib/python3.10/dist-packages (from importlib-metadata->dash) (3.18.1)\n",
            "Requirement already satisfied: six>=1.7.0 in /usr/local/lib/python3.10/dist-packages (from retrying->dash) (1.16.0)\n"
          ]
        }
      ],
      "source": [
        "pip install requests dash"
      ]
    },
    {
      "cell_type": "code",
      "source": [
        "import dash\n",
        "from dash import dcc, html\n",
        "from dash.dependencies import Input, Output\n",
        "import requests\n",
        "import pandas as pd\n",
        "\n",
        "# JSONPlaceholder API endpoint\n",
        "base_url = 'https://jsonplaceholder.typicode.com/users'\n",
        "\n",
        "# Initialize Dash app\n",
        "app = dash.Dash(__name__)\n",
        "\n",
        "# Define styles\n",
        "styles = {\n",
        "    'container': {\n",
        "        'width': '70%',\n",
        "        'margin': 'auto',\n",
        "        'padding': '25px',\n",
        "        'border': '1px solid #ccc',\n",
        "        'border-radius': '5px',\n",
        "        'box-shadow': '0px 0px 10px 0px rgba(0,0,0,0.1)',\n",
        "        'background-color': '#eaf6ff'\n",
        "    },\n",
        "    'table': {\n",
        "        'border-collapse': 'collapse',\n",
        "        'width': '100%'\n",
        "    },\n",
        "    'th': {\n",
        "        'border': '1px solid #ddd',\n",
        "        'padding': '8px',\n",
        "        'text-align': 'left',\n",
        "        'background-color': '#f2f2f2',\n",
        "        'padding-left': '20px'\n",
        "    },\n",
        "    'td': {\n",
        "        'border': '1px solid #ddd',\n",
        "        'padding': '8px'\n",
        "    }\n",
        "}\n",
        "\n",
        "# Layout of the dashboard\n",
        "app.layout = html.Div([\n",
        "    html.H1(\"Users Dashboard\", style={'text-align': 'center'}),\n",
        "    html.Div(id='user-output', style=styles['container'])\n",
        "])\n",
        "\n",
        "# Callback to fetch and display random user data in a table\n",
        "@app.callback(\n",
        "    Output('user-output', 'children'),\n",
        "   [Input('user-output', 'children')]\n",
        ")\n",
        "def update_users_table(n_clicks):\n",
        "    # Make request to JSONPlaceholder API\n",
        "    response = requests.get(base_url)\n",
        "\n",
        "    if response.status_code == 200:\n",
        "        users_data = response.json()[:50]  # Assuming we want the first 5 users from the response\n",
        "\n",
        "        # Convert user data to DataFrame for easier manipulation\n",
        "        df = pd.DataFrame(users_data)\n",
        "        df = df.drop(columns=['address', 'company'])\n",
        "\n",
        "        # Display user information in a table\n",
        "        table_header = [html.Th(col) for col in df.columns]\n",
        "        table_rows = []\n",
        "        for _, row in df.iterrows():\n",
        "            row_data = [html.Td(str(row[col])) for col in df.columns]\n",
        "            table_rows.append(html.Tr(row_data))\n",
        "\n",
        "        user_table = html.Table([\n",
        "            html.Thead(html.Tr(table_header)),\n",
        "            html.Tbody(table_rows)\n",
        "        ], style=styles['table'])\n",
        "        return user_table\n",
        "    else:\n",
        "        return html.P(\"Failed to fetch user data.\")\n",
        "\n",
        "if __name__ == '__main__':\n",
        "    app.run_server(debug=True)"
      ],
      "metadata": {
        "colab": {
          "base_uri": "https://localhost:8080/",
          "height": 671
        },
        "id": "pFBIfNTmiDd3",
        "outputId": "83b59caa-469e-4538-f081-b8384da936b7"
      },
      "execution_count": 10,
      "outputs": [
        {
          "output_type": "display_data",
          "data": {
            "text/plain": [
              "<IPython.core.display.Javascript object>"
            ],
            "application/javascript": [
              "(async (port, path, width, height, cache, element) => {\n",
              "    if (!google.colab.kernel.accessAllowed && !cache) {\n",
              "      return;\n",
              "    }\n",
              "    element.appendChild(document.createTextNode(''));\n",
              "    const url = await google.colab.kernel.proxyPort(port, {cache});\n",
              "    const iframe = document.createElement('iframe');\n",
              "    iframe.src = new URL(path, url).toString();\n",
              "    iframe.height = height;\n",
              "    iframe.width = width;\n",
              "    iframe.style.border = 0;\n",
              "    iframe.allow = [\n",
              "        'accelerometer',\n",
              "        'autoplay',\n",
              "        'camera',\n",
              "        'clipboard-read',\n",
              "        'clipboard-write',\n",
              "        'gyroscope',\n",
              "        'magnetometer',\n",
              "        'microphone',\n",
              "        'serial',\n",
              "        'usb',\n",
              "        'xr-spatial-tracking',\n",
              "    ].join('; ');\n",
              "    element.appendChild(iframe);\n",
              "  })(8050, \"/\", \"100%\", 650, false, window.element)"
            ]
          },
          "metadata": {}
        }
      ]
    }
  ]
}